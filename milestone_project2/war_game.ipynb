{
 "cells": [
  {
   "cell_type": "code",
   "execution_count": 1,
   "metadata": {},
   "outputs": [],
   "source": [
    "import random\n",
    "# Creation of the card class should include the following properties: Suit, Rank, Value\n",
    "values = {'Two':2,'Three':3,'Four':4,'Five':5,'Six':6,'Seven':7,'Eight':8,'Nine':9,'Ten':9,'Jack':11,\n",
    "          'Queen':12,'King':13,'Ace':14}\n",
    "suits = ('Hearts', 'Diamonds', 'Spades', 'Clubs')\n",
    "ranks = ('Two', 'Three', 'Four', 'Five', 'Six', 'Seven', 'Eight', 'Nine', 'Ten', 'Jack', 'Queen', 'King', 'Ace')\n",
    "\n",
    "class Card:\n",
    "    def __init__(self, suit, rank):\n",
    "        self.suit = suit\n",
    "        self.rank = rank \n",
    "        self.value = values[rank]\n",
    "        \n",
    "    def __str__(self):\n",
    "        return self.rank + \" of \"+ self.suit\n",
    "        "
   ]
  },
  {
   "cell_type": "code",
   "execution_count": 2,
   "metadata": {},
   "outputs": [],
   "source": [
    "two_hearts = Card('Hearts', 'Two')"
   ]
  },
  {
   "cell_type": "code",
   "execution_count": 3,
   "metadata": {},
   "outputs": [
    {
     "data": {
      "text/plain": [
       "'Hearts'"
      ]
     },
     "execution_count": 3,
     "metadata": {},
     "output_type": "execute_result"
    }
   ],
   "source": [
    "two_hearts.suit"
   ]
  },
  {
   "cell_type": "code",
   "execution_count": 4,
   "metadata": {},
   "outputs": [
    {
     "data": {
      "text/plain": [
       "'Two'"
      ]
     },
     "execution_count": 4,
     "metadata": {},
     "output_type": "execute_result"
    }
   ],
   "source": [
    "two_hearts.rank"
   ]
  },
  {
   "cell_type": "code",
   "execution_count": 5,
   "metadata": {},
   "outputs": [
    {
     "name": "stdout",
     "output_type": "stream",
     "text": [
      "Two of Hearts\n"
     ]
    }
   ],
   "source": [
    "print(two_hearts)"
   ]
  },
  {
   "cell_type": "code",
   "execution_count": 6,
   "metadata": {},
   "outputs": [],
   "source": [
    "three_of_clubs = Card('Clubs', 'Three')"
   ]
  },
  {
   "cell_type": "code",
   "execution_count": 7,
   "metadata": {},
   "outputs": [
    {
     "data": {
      "text/plain": [
       "3"
      ]
     },
     "execution_count": 7,
     "metadata": {},
     "output_type": "execute_result"
    }
   ],
   "source": [
    "values[three_of_clubs.rank]"
   ]
  },
  {
   "cell_type": "code",
   "execution_count": 8,
   "metadata": {},
   "outputs": [
    {
     "data": {
      "text/plain": [
       "True"
      ]
     },
     "execution_count": 8,
     "metadata": {},
     "output_type": "execute_result"
    }
   ],
   "source": [
    "# Compare values of both cards \n",
    "two_hearts.value < three_of_clubs.value\n"
   ]
  },
  {
   "cell_type": "code",
   "execution_count": 9,
   "metadata": {},
   "outputs": [],
   "source": [
    "# New Lecture topic starts here: Creating Deck Class \n",
    "# Vide Demonstrates how to create the deck class for the game War in python  \n",
    "# Look into a possible shuffle package in java \n",
    "\n",
    "class Deck:\n",
    "    def __init__(self):\n",
    "        self.all_cards = []\n",
    "        \n",
    "        for suit in suits:\n",
    "            for rank in ranks:\n",
    "                # Create the card objects \n",
    "                \n",
    "                created_card = Card(suit, rank)\n",
    "                self.all_cards.append(created_card)\n",
    "    def shuffle(self):\n",
    "        random.shuffle(self.all_cards)\n",
    "        \n",
    "    # Create a method to deal one card from the deck of cards \n",
    "    def deal_one(self):\n",
    "        return self.all_cards.pop()\n",
    "\n",
    "        \n",
    "        \n",
    "        "
   ]
  },
  {
   "cell_type": "code",
   "execution_count": 10,
   "metadata": {},
   "outputs": [],
   "source": [
    "#Create ane w deck of 52 cards\n",
    "new_deck = Deck()"
   ]
  },
  {
   "cell_type": "code",
   "execution_count": 11,
   "metadata": {},
   "outputs": [
    {
     "data": {
      "text/plain": [
       "[<__main__.Card at 0x299f0f5f648>,\n",
       " <__main__.Card at 0x299f0f5f508>,\n",
       " <__main__.Card at 0x299f0f5f548>,\n",
       " <__main__.Card at 0x299f0f5f708>,\n",
       " <__main__.Card at 0x299f0f5f7c8>,\n",
       " <__main__.Card at 0x299f0f5f848>,\n",
       " <__main__.Card at 0x299f0f5f888>,\n",
       " <__main__.Card at 0x299f0f5f8c8>,\n",
       " <__main__.Card at 0x299f0f5f748>,\n",
       " <__main__.Card at 0x299f0f5f808>,\n",
       " <__main__.Card at 0x299f0f5f788>,\n",
       " <__main__.Card at 0x299f0f5fb08>,\n",
       " <__main__.Card at 0x299f0f5f948>,\n",
       " <__main__.Card at 0x299f0f5f908>,\n",
       " <__main__.Card at 0x299f0f5fac8>,\n",
       " <__main__.Card at 0x299f0f5fb48>,\n",
       " <__main__.Card at 0x299f0f5fb88>,\n",
       " <__main__.Card at 0x299f0f5fbc8>,\n",
       " <__main__.Card at 0x299f0f5fc08>,\n",
       " <__main__.Card at 0x299f0f5fc48>,\n",
       " <__main__.Card at 0x299f0f5fc88>,\n",
       " <__main__.Card at 0x299f0f5fcc8>,\n",
       " <__main__.Card at 0x299f0f5fd08>,\n",
       " <__main__.Card at 0x299f0f5fd48>,\n",
       " <__main__.Card at 0x299f0f5fd88>,\n",
       " <__main__.Card at 0x299f0f5fdc8>,\n",
       " <__main__.Card at 0x299f0f5fe08>,\n",
       " <__main__.Card at 0x299f0f5fe48>,\n",
       " <__main__.Card at 0x299f0f5fe88>,\n",
       " <__main__.Card at 0x299f0f5fec8>,\n",
       " <__main__.Card at 0x299f0f5ff08>,\n",
       " <__main__.Card at 0x299f0f5ff48>,\n",
       " <__main__.Card at 0x299f0f5ff88>,\n",
       " <__main__.Card at 0x299f0f5ffc8>,\n",
       " <__main__.Card at 0x299f0f3d048>,\n",
       " <__main__.Card at 0x299f0f3d088>,\n",
       " <__main__.Card at 0x299f0f3d0c8>,\n",
       " <__main__.Card at 0x299f0f3d108>,\n",
       " <__main__.Card at 0x299f0f3d148>,\n",
       " <__main__.Card at 0x299f0f3d188>,\n",
       " <__main__.Card at 0x299f0f3d1c8>,\n",
       " <__main__.Card at 0x299f0f3d208>,\n",
       " <__main__.Card at 0x299f0f3d248>,\n",
       " <__main__.Card at 0x299f0f3d288>,\n",
       " <__main__.Card at 0x299f0f3d2c8>,\n",
       " <__main__.Card at 0x299f0f3d308>,\n",
       " <__main__.Card at 0x299f0f3d348>,\n",
       " <__main__.Card at 0x299f0f3d388>,\n",
       " <__main__.Card at 0x299f0f3d3c8>,\n",
       " <__main__.Card at 0x299f0f3d408>,\n",
       " <__main__.Card at 0x299f0f3d448>,\n",
       " <__main__.Card at 0x299f0f3d488>]"
      ]
     },
     "execution_count": 11,
     "metadata": {},
     "output_type": "execute_result"
    }
   ],
   "source": [
    "new_deck.all_cards"
   ]
  },
  {
   "cell_type": "code",
   "execution_count": 12,
   "metadata": {},
   "outputs": [],
   "source": [
    "# Grab a card from from deck of cards object\n",
    "first_card = new_deck.all_cards[4]"
   ]
  },
  {
   "cell_type": "code",
   "execution_count": 13,
   "metadata": {},
   "outputs": [
    {
     "data": {
      "text/plain": [
       "'Hearts'"
      ]
     },
     "execution_count": 13,
     "metadata": {},
     "output_type": "execute_result"
    }
   ],
   "source": [
    "first_card.suit"
   ]
  },
  {
   "cell_type": "code",
   "execution_count": 14,
   "metadata": {},
   "outputs": [
    {
     "name": "stdout",
     "output_type": "stream",
     "text": [
      "Six of Hearts\n"
     ]
    }
   ],
   "source": [
    "print(first_card)"
   ]
  },
  {
   "cell_type": "code",
   "execution_count": 15,
   "metadata": {},
   "outputs": [
    {
     "name": "stdout",
     "output_type": "stream",
     "text": [
      "Two of Hearts\n",
      "Three of Hearts\n",
      "Four of Hearts\n",
      "Five of Hearts\n",
      "Six of Hearts\n",
      "Seven of Hearts\n",
      "Eight of Hearts\n",
      "Nine of Hearts\n",
      "Ten of Hearts\n",
      "Jack of Hearts\n",
      "Queen of Hearts\n",
      "King of Hearts\n",
      "Ace of Hearts\n",
      "Two of Diamonds\n",
      "Three of Diamonds\n",
      "Four of Diamonds\n",
      "Five of Diamonds\n",
      "Six of Diamonds\n",
      "Seven of Diamonds\n",
      "Eight of Diamonds\n",
      "Nine of Diamonds\n",
      "Ten of Diamonds\n",
      "Jack of Diamonds\n",
      "Queen of Diamonds\n",
      "King of Diamonds\n",
      "Ace of Diamonds\n",
      "Two of Spades\n",
      "Three of Spades\n",
      "Four of Spades\n",
      "Five of Spades\n",
      "Six of Spades\n",
      "Seven of Spades\n",
      "Eight of Spades\n",
      "Nine of Spades\n",
      "Ten of Spades\n",
      "Jack of Spades\n",
      "Queen of Spades\n",
      "King of Spades\n",
      "Ace of Spades\n",
      "Two of Clubs\n",
      "Three of Clubs\n",
      "Four of Clubs\n",
      "Five of Clubs\n",
      "Six of Clubs\n",
      "Seven of Clubs\n",
      "Eight of Clubs\n",
      "Nine of Clubs\n",
      "Ten of Clubs\n",
      "Jack of Clubs\n",
      "Queen of Clubs\n",
      "King of Clubs\n",
      "Ace of Clubs\n"
     ]
    }
   ],
   "source": [
    "#print cards in the deck \n",
    "for card_object in new_deck.all_cards:\n",
    "    print(card_object)"
   ]
  },
  {
   "cell_type": "code",
   "execution_count": 16,
   "metadata": {},
   "outputs": [],
   "source": [
    "bottom_card = new_deck.all_cards[-1]"
   ]
  },
  {
   "cell_type": "code",
   "execution_count": 17,
   "metadata": {},
   "outputs": [
    {
     "name": "stdout",
     "output_type": "stream",
     "text": [
      "Ace of Clubs\n"
     ]
    }
   ],
   "source": [
    "print(bottom_card)"
   ]
  },
  {
   "cell_type": "code",
   "execution_count": 18,
   "metadata": {},
   "outputs": [],
   "source": [
    "new_deck.shuffle()"
   ]
  },
  {
   "cell_type": "code",
   "execution_count": 19,
   "metadata": {},
   "outputs": [
    {
     "name": "stdout",
     "output_type": "stream",
     "text": [
      "Six of Hearts\n"
     ]
    }
   ],
   "source": [
    "print(new_deck.all_cards[-1])"
   ]
  },
  {
   "cell_type": "code",
   "execution_count": 20,
   "metadata": {},
   "outputs": [
    {
     "name": "stdout",
     "output_type": "stream",
     "text": [
      "Six of Hearts\n"
     ]
    }
   ],
   "source": [
    "print(new_deck.all_cards[-1])"
   ]
  },
  {
   "cell_type": "code",
   "execution_count": 21,
   "metadata": {},
   "outputs": [],
   "source": [
    "new_deck.shuffle()"
   ]
  },
  {
   "cell_type": "code",
   "execution_count": 22,
   "metadata": {},
   "outputs": [
    {
     "name": "stdout",
     "output_type": "stream",
     "text": [
      "Queen of Clubs\n"
     ]
    }
   ],
   "source": [
    "print(new_deck.all_cards[-1])"
   ]
  },
  {
   "cell_type": "code",
   "execution_count": 23,
   "metadata": {},
   "outputs": [
    {
     "name": "stdout",
     "output_type": "stream",
     "text": [
      "Seven of Spades\n"
     ]
    }
   ],
   "source": [
    "print(new_deck.all_cards[0])"
   ]
  },
  {
   "cell_type": "code",
   "execution_count": 24,
   "metadata": {},
   "outputs": [],
   "source": [
    "drawn_card = new_deck.deal_one() "
   ]
  },
  {
   "cell_type": "code",
   "execution_count": 25,
   "metadata": {},
   "outputs": [
    {
     "name": "stdout",
     "output_type": "stream",
     "text": [
      "Queen of Clubs\n"
     ]
    }
   ],
   "source": [
    "print(drawn_card)"
   ]
  },
  {
   "cell_type": "code",
   "execution_count": 26,
   "metadata": {},
   "outputs": [
    {
     "data": {
      "text/plain": [
       "51"
      ]
     },
     "execution_count": 26,
     "metadata": {},
     "output_type": "execute_result"
    }
   ],
   "source": [
    "len(new_deck.all_cards)"
   ]
  },
  {
   "cell_type": "code",
   "execution_count": 27,
   "metadata": {},
   "outputs": [],
   "source": [
    "class Player:\n",
    "    def __init__(self, name ):\n",
    "        self.name =  name \n",
    "        self.all_cards = []\n",
    "        \n",
    "    def remove_one(self):\n",
    "        return self.all_cards.pop(0) \n",
    "    \n",
    "    def add_cards(self, new_cards):\n",
    "        if type(new_cards) == type([]):\n",
    "            # Get a list of multi card objects\n",
    "            self.all_cards.extend(new_cards)\n",
    "        else:\n",
    "            self.all_cards.append(new_cards)\n",
    "        \n",
    "    def __str__(self):\n",
    "        return f'Player {self.name} has {len(self.all_cards)} cards.'\n",
    "        \n",
    "        \n",
    "    "
   ]
  },
  {
   "cell_type": "code",
   "execution_count": 28,
   "metadata": {},
   "outputs": [],
   "source": [
    "# Create an instance of a player \n",
    "new_player = Player(\"Jose\")"
   ]
  },
  {
   "cell_type": "code",
   "execution_count": 29,
   "metadata": {},
   "outputs": [
    {
     "name": "stdout",
     "output_type": "stream",
     "text": [
      "Player Jose has 0 cards.\n"
     ]
    }
   ],
   "source": [
    "print(new_player)"
   ]
  },
  {
   "cell_type": "code",
   "execution_count": 30,
   "metadata": {},
   "outputs": [],
   "source": [
    "# Add previously drawn card from deck to players hand\n",
    "new_player.add_cards(drawn_card)"
   ]
  },
  {
   "cell_type": "code",
   "execution_count": 31,
   "metadata": {},
   "outputs": [
    {
     "data": {
      "text/plain": [
       "<__main__.Player at 0x299f0f69408>"
      ]
     },
     "execution_count": 31,
     "metadata": {},
     "output_type": "execute_result"
    }
   ],
   "source": [
    "new_player"
   ]
  },
  {
   "cell_type": "code",
   "execution_count": 32,
   "metadata": {},
   "outputs": [
    {
     "name": "stdout",
     "output_type": "stream",
     "text": [
      "Player Jose has 1 cards.\n"
     ]
    }
   ],
   "source": [
    "print(new_player)"
   ]
  },
  {
   "cell_type": "code",
   "execution_count": 33,
   "metadata": {},
   "outputs": [
    {
     "name": "stdout",
     "output_type": "stream",
     "text": [
      "Queen of Clubs\n"
     ]
    }
   ],
   "source": [
    "# print the value if draewn player card\n",
    "print(new_player.all_cards[0])"
   ]
  },
  {
   "cell_type": "code",
   "execution_count": 34,
   "metadata": {},
   "outputs": [],
   "source": [
    "# draw the same card 4 times to the players hand\n",
    "new_player.add_cards([drawn_card,drawn_card,drawn_card ])"
   ]
  },
  {
   "cell_type": "code",
   "execution_count": 35,
   "metadata": {},
   "outputs": [
    {
     "name": "stdout",
     "output_type": "stream",
     "text": [
      "Player Jose has 4 cards.\n"
     ]
    }
   ],
   "source": [
    "print(new_player)"
   ]
  },
  {
   "cell_type": "code",
   "execution_count": 36,
   "metadata": {},
   "outputs": [
    {
     "data": {
      "text/plain": [
       "<__main__.Card at 0x299f0f3d408>"
      ]
     },
     "execution_count": 36,
     "metadata": {},
     "output_type": "execute_result"
    }
   ],
   "source": [
    "# Remove a card from the players hand\n",
    "new_player.remove_one()"
   ]
  },
  {
   "cell_type": "code",
   "execution_count": 37,
   "metadata": {},
   "outputs": [
    {
     "name": "stdout",
     "output_type": "stream",
     "text": [
      "Player Jose has 3 cards.\n"
     ]
    }
   ],
   "source": [
    "print(new_player)"
   ]
  },
  {
   "cell_type": "code",
   "execution_count": 38,
   "metadata": {},
   "outputs": [],
   "source": [
    "# The code below this comment pertains to the pasrt 1 Game Logic for the War Game created in Python\n",
    "# Tip: It more common to think about the logic of how a program will be excuted simultaneously with writing \n",
    "# the class structures for the program.  this helps to build better code and avoid errors in development\n",
    "player_one = Player(\"One\")\n",
    "player_two = Player(\"Two\")\n",
    "\n",
    "new_deck = Deck()\n",
    "new_deck.shuffle()\n",
    "\n",
    "\n",
    "for c in range(26):\n",
    "    player_one.add_cards(new_deck.deal_one())\n",
    "    player_two.add_cards(new_deck.deal_one())\n",
    "\n",
    "\n",
    "\n",
    "\n"
   ]
  },
  {
   "cell_type": "code",
   "execution_count": 39,
   "metadata": {},
   "outputs": [
    {
     "name": "stdout",
     "output_type": "stream",
     "text": [
      "26\n",
      "26\n"
     ]
    }
   ],
   "source": [
    "# Check if both players have been dealt cards and print the first card :\n",
    "print(len(player_one.all_cards))\n",
    "print(len(player_two.all_cards))"
   ]
  },
  {
   "cell_type": "code",
   "execution_count": 40,
   "metadata": {},
   "outputs": [],
   "source": [
    "game_on = True"
   ]
  },
  {
   "cell_type": "code",
   "execution_count": 41,
   "metadata": {},
   "outputs": [
    {
     "name": "stdout",
     "output_type": "stream",
     "text": [
      "Round 1\n",
      "Round 2\n",
      "Round 3\n",
      "Round 4\n",
      "Round 5\n",
      "Round 6\n",
      "Round 7\n",
      "Round 8\n",
      "Round 9\n",
      "Round 10\n",
      "Round 11\n",
      "Round 12\n",
      "Round 13\n",
      "Round 14\n",
      "Round 15\n",
      "Round 16\n",
      "Round 17\n",
      "Round 18\n",
      "Round 19\n",
      "Round 20\n",
      "Round 21\n",
      "Round 22\n",
      "Round 23\n",
      "Round 24\n",
      "Round 25\n",
      "Round 26\n",
      "Round 27\n",
      "Round 28\n",
      "WAR!\n",
      "WAR!\n",
      "Round 29\n",
      "Round 30\n",
      "Round 31\n",
      "Round 32\n",
      "Round 33\n",
      "Round 34\n",
      "Round 35\n",
      "Round 36\n",
      "Round 37\n",
      "Round 38\n",
      "Round 39\n",
      "Round 40\n",
      "Round 41\n",
      "WAR!\n",
      "Round 42\n",
      "Player One, out of cards! Player Two Wins!\n"
     ]
    }
   ],
   "source": [
    "round_num = 0\n",
    "\n",
    "while game_on:\n",
    "    round_num += 1\n",
    "    print(f\"Round {round_num}\")\n",
    "    \n",
    "    if len(player_one.all_cards) == 0:\n",
    "        print('Player One, out of cards! Player Two Wins!')\n",
    "        game_on = False\n",
    "        break\n",
    "    if len(player_two.all_cards) == 0:\n",
    "        print('Player Two, out of cards! Player One Wins!')\n",
    "        game_on = False\n",
    "        break\n",
    "#     Starts a new round\n",
    "    player_one_cards =  [] # Represents the cards that are in play \n",
    "    player_one_cards.append(player_one.remove_one())  \n",
    "    player_two_cards =  []  \n",
    "    player_two_cards.append(player_two.remove_one())  \n",
    "\n",
    "    at_war = True\n",
    "    while at_war:\n",
    "        if player_one_cards[-1].value > player_two_cards[-1].value:\n",
    "            player_one.add_cards(player_one_cards)\n",
    "            player_one.add_cards(player_two_cards)\n",
    "            at_war = False\n",
    "        elif player_one_cards[-1].value < player_two_cards[-1].value:\n",
    "            player_two.add_cards(player_two_cards)\n",
    "            player_two.add_cards(player_one_cards)\n",
    "            at_war = False\n",
    "        else:\n",
    "            print('WAR!')\n",
    "            if len(player_one.all_cards) < 5:\n",
    "                print('Player One is unable to declare war')\n",
    "                print('PLAYER TWO WINS!')\n",
    "                game_on = False\n",
    "                break\n",
    "            elif len(player_two.all_cards) < 5:\n",
    "                print('Player Two is unable to declare war')\n",
    "                print('PLAYER ONE WINS!')\n",
    "                game_on = False\n",
    "                break\n",
    "            else:\n",
    "                for num in range(5):\n",
    "                    player_one_cards.append(player_one.remove_one())\n",
    "                    player_two_cards.append(player_two.remove_one())\n",
    "\n",
    "\n",
    "        \n",
    "    \n",
    "      \n",
    "    \n",
    "    "
   ]
  },
  {
   "cell_type": "code",
   "execution_count": null,
   "metadata": {},
   "outputs": [],
   "source": []
  },
  {
   "cell_type": "code",
   "execution_count": null,
   "metadata": {},
   "outputs": [],
   "source": []
  },
  {
   "cell_type": "code",
   "execution_count": null,
   "metadata": {},
   "outputs": [],
   "source": []
  }
 ],
 "metadata": {
  "kernelspec": {
   "display_name": "Python 3",
   "language": "python",
   "name": "python3"
  },
  "language_info": {
   "codemirror_mode": {
    "name": "ipython",
    "version": 3
   },
   "file_extension": ".py",
   "mimetype": "text/x-python",
   "name": "python",
   "nbconvert_exporter": "python",
   "pygments_lexer": "ipython3",
   "version": "3.7.7"
  }
 },
 "nbformat": 4,
 "nbformat_minor": 4
}
