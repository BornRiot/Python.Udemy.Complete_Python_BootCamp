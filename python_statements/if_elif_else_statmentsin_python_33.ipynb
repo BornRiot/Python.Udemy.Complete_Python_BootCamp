{
 "cells": [
  {
   "cell_type": "code",
   "execution_count": 1,
   "metadata": {},
   "outputs": [
    {
     "name": "stdout",
     "output_type": "stream",
     "text": [
      "this sucks\n"
     ]
    }
   ],
   "source": [
    "a = 35\n",
    "b = 24\n",
    "if(a < b):\n",
    "    print (\"this was a mistake\")\n",
    "else:\n",
    "    print(\"this sucks\")\n"
   ]
  },
  {
   "cell_type": "code",
   "execution_count": 3,
   "metadata": {},
   "outputs": [
    {
     "name": "stdout",
     "output_type": "stream",
     "text": [
      "its true\n"
     ]
    }
   ],
   "source": [
    "if True:\n",
    "    print ('its true')"
   ]
  },
  {
   "cell_type": "code",
   "execution_count": 4,
   "metadata": {},
   "outputs": [
    {
     "name": "stdout",
     "output_type": "stream",
     "text": [
      "its true\n"
     ]
    }
   ],
   "source": [
    "if (3 > 2):\n",
    "    print('its true')"
   ]
  },
  {
   "cell_type": "code",
   "execution_count": 7,
   "metadata": {},
   "outputs": [
    {
     "name": "stdout",
     "output_type": "stream",
     "text": [
      "True\n",
      "Feed Me!!\n"
     ]
    }
   ],
   "source": [
    "hungry = True\n",
    "print(hungry)\n",
    "#the keyword \"True\" on python is case sensitive\n",
    "if hungry:\n",
    "    print('Feed Me!!')\n"
   ]
  },
  {
   "cell_type": "code",
   "execution_count": 9,
   "metadata": {},
   "outputs": [
    {
     "name": "stdout",
     "output_type": "stream",
     "text": [
      "Feed Me\n"
     ]
    }
   ],
   "source": [
    "if hungry:\n",
    "    print('Feed Me')\n",
    "else:\n",
    "    print(\"I'm not hungry\")\n",
    "    \n",
    "    "
   ]
  },
  {
   "cell_type": "code",
   "execution_count": 11,
   "metadata": {},
   "outputs": [
    {
     "name": "stdout",
     "output_type": "stream",
     "text": [
      "Money is cool\n"
     ]
    }
   ],
   "source": [
    "loc  = 'Bank'\n",
    "\n",
    "if loc ==  'Bank':\n",
    "    print(\"Money is cool\")\n",
    "elif loc == 'Auto Shop':\n",
    "    print(\"Cars are cool \")\n",
    "else:\n",
    "    print(\"Nothing is  cool \")"
   ]
  },
  {
   "cell_type": "code",
   "execution_count": 18,
   "metadata": {},
   "outputs": [
    {
     "name": "stdout",
     "output_type": "stream",
     "text": [
      "What is your name\n",
      "Sammy:  John\n"
     ]
    }
   ],
   "source": [
    "name = 'Sammy:  '\n",
    "\n",
    "if name == 'Frankie':\n",
    "    print(\"Hello Frankie\")\n",
    "elif name == 'Rebecca':\n",
    "    print(\"Hi Rebecca\")\n",
    "elif name == 'John':\n",
    "    print(\"Hi John \")\n",
    "else:\n",
    "    print(\"What is your name\")\n",
    "    newName = input( name)\n"
   ]
  },
  {
   "cell_type": "code",
   "execution_count": 19,
   "metadata": {},
   "outputs": [
    {
     "name": "stdout",
     "output_type": "stream",
     "text": [
      "John\n"
     ]
    }
   ],
   "source": [
    "print(newName)"
   ]
  },
  {
   "cell_type": "code",
   "execution_count": null,
   "metadata": {},
   "outputs": [],
   "source": []
  }
 ],
 "metadata": {
  "kernelspec": {
   "display_name": "Python 3",
   "language": "python",
   "name": "python3"
  },
  "language_info": {
   "codemirror_mode": {
    "name": "ipython",
    "version": 3
   },
   "file_extension": ".py",
   "mimetype": "text/x-python",
   "name": "python",
   "nbconvert_exporter": "python",
   "pygments_lexer": "ipython3",
   "version": "3.7.7"
  }
 },
 "nbformat": 4,
 "nbformat_minor": 4
}
