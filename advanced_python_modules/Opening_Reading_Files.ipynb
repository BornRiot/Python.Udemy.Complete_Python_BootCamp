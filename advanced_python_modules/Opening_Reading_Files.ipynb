{
 "cells": [
  {
   "cell_type": "code",
   "execution_count": 5,
   "metadata": {},
   "outputs": [],
   "source": [
    "# Lectue focuses on using the shell and OS utilities model to open and read files in pyhon \n"
   ]
  },
  {
   "cell_type": "code",
   "execution_count": 3,
   "metadata": {},
   "outputs": [
    {
     "data": {
      "text/plain": [
       "'C:\\\\DevEx\\\\IdeaProjects\\\\Python.Udemy.Complete_Python_BootCamp\\\\advanced_python_modules'"
      ]
     },
     "execution_count": 3,
     "metadata": {},
     "output_type": "execute_result"
    }
   ],
   "source": [
    "pwd"
   ]
  },
  {
   "cell_type": "code",
   "execution_count": 6,
   "metadata": {},
   "outputs": [],
   "source": [
    "f = open('practice.txt', 'w+')\n",
    "f.write('This is a test stirng')\n",
    "f.close()"
   ]
  },
  {
   "cell_type": "code",
   "execution_count": 7,
   "metadata": {},
   "outputs": [
    {
     "data": {
      "text/plain": [
       "'C:\\\\DevEx\\\\IdeaProjects\\\\Python.Udemy.Complete_Python_BootCamp\\\\advanced_python_modules'"
      ]
     },
     "execution_count": 7,
     "metadata": {},
     "output_type": "execute_result"
    }
   ],
   "source": [
    "import os\n",
    "os.getcwd()"
   ]
  },
  {
   "cell_type": "code",
   "execution_count": 8,
   "metadata": {},
   "outputs": [
    {
     "data": {
      "text/plain": [
       "['.ipynb_checkpoints',\n",
       " 'collections_module.ipynb',\n",
       " 'date_time_module.ipynb',\n",
       " 'debugger.ipynb',\n",
       " 'groups.py',\n",
       " 'Opening_Reading_Files.ipynb',\n",
       " 'practice.txt',\n",
       " 'timing_code.ipynb']"
      ]
     },
     "execution_count": 8,
     "metadata": {},
     "output_type": "execute_result"
    }
   ],
   "source": [
    "os.listdir()"
   ]
  },
  {
   "cell_type": "code",
   "execution_count": 10,
   "metadata": {},
   "outputs": [
    {
     "data": {
      "text/plain": [
       "['.ipynb_checkpoints',\n",
       " '06-Advanced Python Objects Test.ipynb',\n",
       " 'advanced_dictionaries.py',\n",
       " 'advanced_lists.ipynb',\n",
       " 'advanced_numbers.py',\n",
       " 'advanced_sets.ipynb',\n",
       " 'advanced_strings.py']"
      ]
     },
     "execution_count": 10,
     "metadata": {},
     "output_type": "execute_result"
    }
   ],
   "source": [
    "os.listdir('C:\\\\DevEx\\\\IdeaProjects\\\\Python.Udemy.Complete_Python_BootCamp\\\\advanced_python_objects')"
   ]
  },
  {
   "cell_type": "code",
   "execution_count": 11,
   "metadata": {},
   "outputs": [],
   "source": [
    "import shutil"
   ]
  },
  {
   "cell_type": "code",
   "execution_count": 13,
   "metadata": {},
   "outputs": [
    {
     "data": {
      "text/plain": [
       "'C:\\\\Users\\\\Marvin\\\\Desktop\\\\practice.txt'"
      ]
     },
     "execution_count": 13,
     "metadata": {},
     "output_type": "execute_result"
    }
   ],
   "source": [
    "shutil.move('practice.txt', 'C:\\\\Users\\\\Marvin\\\\Desktop')"
   ]
  },
  {
   "cell_type": "code",
   "execution_count": 14,
   "metadata": {},
   "outputs": [
    {
     "data": {
      "text/plain": [
       "['.ipynb_checkpoints',\n",
       " '2019PaintI.xlsx',\n",
       " '2019PaintI_ref.xlsx',\n",
       " 'Atom.lnk',\n",
       " 'Business',\n",
       " 'Check if all elements in a List are same.pdf',\n",
       " 'Chevy_Insurance_0720.pdf',\n",
       " 'Coding Pics',\n",
       " 'coun_case_pics',\n",
       " 'Cover Letter.docx',\n",
       " 'desktop.ini',\n",
       " 'Doc1.docx',\n",
       " 'Dropbox.lnk',\n",
       " 'EMAILSWITHPYTHON.txt',\n",
       " 'Eye Insurance.pdf',\n",
       " 'GA Power Bill.pdf',\n",
       " 'GEICOPAYMENT.pdf',\n",
       " 'GFG.class',\n",
       " 'GFGArrayChceker.class',\n",
       " 'GFGArrayChecker.class',\n",
       " 'GFGArrayChecker.java',\n",
       " 'gitstuff.txt',\n",
       " 'Kindle.lnk',\n",
       " 'LinkedIn Statement.docx',\n",
       " 'Marvin - Chrome.lnk',\n",
       " 'milestone_project1',\n",
       " 'Nissan_Insurance_0720.pdf',\n",
       " 'practice.txt',\n",
       " 'Questions for Financial Advisor .docx',\n",
       " 'Resume_2020.docx',\n",
       " 'Resume_Logistics.docx',\n",
       " 'RichDad_PooraDad',\n",
       " 'Stock Statements',\n",
       " 'temp_hold',\n",
       " 'test_kite_sub.py',\n",
       " 'water.txt',\n",
       " '~$2019PaintI.xlsx']"
      ]
     },
     "execution_count": 14,
     "metadata": {},
     "output_type": "execute_result"
    }
   ],
   "source": [
    "os.listdir('C:\\\\Users\\\\Marvin\\\\Desktop')"
   ]
  },
  {
   "cell_type": "code",
   "execution_count": 15,
   "metadata": {},
   "outputs": [],
   "source": [
    "import send2trash "
   ]
  },
  {
   "cell_type": "code",
   "execution_count": 16,
   "metadata": {},
   "outputs": [
    {
     "data": {
      "text/plain": [
       "'C:\\\\DevEx\\\\IdeaProjects\\\\Python.Udemy.Complete_Python_BootCamp\\\\advanced_python_modules\\\\practice.txt'"
      ]
     },
     "execution_count": 16,
     "metadata": {},
     "output_type": "execute_result"
    }
   ],
   "source": [
    "shutil.move('C:\\\\Users\\\\Marvin\\\\Desktop\\\\practice.txt', os.getcwd())"
   ]
  },
  {
   "cell_type": "code",
   "execution_count": 18,
   "metadata": {},
   "outputs": [
    {
     "data": {
      "text/plain": [
       "['.ipynb_checkpoints',\n",
       " 'collections_module.ipynb',\n",
       " 'date_time_module.ipynb',\n",
       " 'debugger.ipynb',\n",
       " 'groups.py',\n",
       " 'Opening_Reading_Files.ipynb',\n",
       " 'practice.txt',\n",
       " 'timing_code.ipynb']"
      ]
     },
     "execution_count": 18,
     "metadata": {},
     "output_type": "execute_result"
    }
   ],
   "source": [
    "os.listdir()"
   ]
  },
  {
   "cell_type": "code",
   "execution_count": 19,
   "metadata": {},
   "outputs": [],
   "source": [
    "send2trash.send2trash('practice.txt')"
   ]
  },
  {
   "cell_type": "code",
   "execution_count": 20,
   "metadata": {},
   "outputs": [
    {
     "data": {
      "text/plain": [
       "['.ipynb_checkpoints',\n",
       " 'collections_module.ipynb',\n",
       " 'date_time_module.ipynb',\n",
       " 'debugger.ipynb',\n",
       " 'groups.py',\n",
       " 'Opening_Reading_Files.ipynb',\n",
       " 'timing_code.ipynb']"
      ]
     },
     "execution_count": 20,
     "metadata": {},
     "output_type": "execute_result"
    }
   ],
   "source": [
    "os.listdir()"
   ]
  },
  {
   "cell_type": "code",
   "execution_count": 21,
   "metadata": {},
   "outputs": [],
   "source": [
    "test_path = 'C:\\\\DevEx\\\\IdeaProjects\\\\Python.Udemy.Complete_Python_BootCamp\\\\test_clone\\\\Complete-Python-3-Bootcamp\\\\12-Advanced Python Modules\\Example_Top_Level'"
   ]
  },
  {
   "cell_type": "code",
   "execution_count": 22,
   "metadata": {},
   "outputs": [
    {
     "name": "stdout",
     "output_type": "stream",
     "text": [
      "Currently loooking at C:\\DevEx\\IdeaProjects\\Python.Udemy.Complete_Python_BootCamp\\test_clone\\Complete-Python-3-Bootcamp\\12-Advanced Python Modules\\Example_Top_Level\n",
      "\n",
      "\n",
      "The subdfolders are:\n",
      "Subfolder: Mid-Example-One\n",
      "\n",
      "\n",
      "the files are: \n",
      "Files: Mid-Example.txt\n",
      "\n",
      "\n",
      "Currently loooking at C:\\DevEx\\IdeaProjects\\Python.Udemy.Complete_Python_BootCamp\\test_clone\\Complete-Python-3-Bootcamp\\12-Advanced Python Modules\\Example_Top_Level\\Mid-Example-One\n",
      "\n",
      "\n",
      "The subdfolders are:\n",
      "Subfolder: Bottom-Level-One\n",
      "Subfolder: Bottom-Level-Two\n",
      "\n",
      "\n",
      "the files are: \n",
      "Files: Mid-Level-Doc.txt\n",
      "\n",
      "\n",
      "Currently loooking at C:\\DevEx\\IdeaProjects\\Python.Udemy.Complete_Python_BootCamp\\test_clone\\Complete-Python-3-Bootcamp\\12-Advanced Python Modules\\Example_Top_Level\\Mid-Example-One\\Bottom-Level-One\n",
      "\n",
      "\n",
      "The subdfolders are:\n",
      "\n",
      "\n",
      "the files are: \n",
      "Files: One_Text.txt\n",
      "\n",
      "\n",
      "Currently loooking at C:\\DevEx\\IdeaProjects\\Python.Udemy.Complete_Python_BootCamp\\test_clone\\Complete-Python-3-Bootcamp\\12-Advanced Python Modules\\Example_Top_Level\\Mid-Example-One\\Bottom-Level-Two\n",
      "\n",
      "\n",
      "The subdfolders are:\n",
      "\n",
      "\n",
      "the files are: \n",
      "Files: Bottom-Text-Two.txt\n",
      "\n",
      "\n"
     ]
    }
   ],
   "source": [
    "for folder, sub_folders, files in os.walk(test_path):\n",
    "    print(f'Currently loooking at {folder}')\n",
    "    print('\\n')\n",
    "    print('The subdfolders are:')\n",
    "    for sub_fold in sub_folders:\n",
    "        print(f\"Subfolder: {sub_fold}\")\n",
    "    print('\\n')\n",
    "    print(\"the files are: \")\n",
    "    for f in files:\n",
    "        print(f'Files: {f}')\n",
    "    print('\\n')\n",
    "\n",
    "        "
   ]
  },
  {
   "cell_type": "code",
   "execution_count": null,
   "metadata": {},
   "outputs": [],
   "source": []
  }
 ],
 "metadata": {
  "kernelspec": {
   "display_name": "Python 3",
   "language": "python",
   "name": "python3"
  },
  "language_info": {
   "codemirror_mode": {
    "name": "ipython",
    "version": 3
   },
   "file_extension": ".py",
   "mimetype": "text/x-python",
   "name": "python",
   "nbconvert_exporter": "python",
   "pygments_lexer": "ipython3",
   "version": "3.7.7"
  }
 },
 "nbformat": 4,
 "nbformat_minor": 4
}
