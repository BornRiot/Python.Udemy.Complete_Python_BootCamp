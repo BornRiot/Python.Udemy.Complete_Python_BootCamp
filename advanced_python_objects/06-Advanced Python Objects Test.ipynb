{
 "cells": [
  {
   "cell_type": "markdown",
   "metadata": {},
   "source": [
    "# Advanced Python Objects Test"
   ]
  },
  {
   "cell_type": "markdown",
   "metadata": {},
   "source": [
    "## Advanced Numbers\n",
    "\n",
    "**Problem 1: Convert 1024 to binary and hexadecimal representation**"
   ]
  },
  {
   "cell_type": "code",
   "execution_count": 4,
   "metadata": {},
   "outputs": [
    {
     "name": "stdout",
     "output_type": "stream",
     "text": [
      "This is the number in binary: 0b10000000000\n",
      "This is the number in hexidecimal: 0x400\n"
     ]
    }
   ],
   "source": [
    "num_to_bin = bin(1024)\n",
    "num_to_hex = hex(1024)\n",
    "\n",
    "print('This is the number in binary:', num_to_bin)\n",
    "print('This is the number in hexidecimal:', num_to_hex)"
   ]
  },
  {
   "cell_type": "markdown",
   "metadata": {},
   "source": [
    "**Problem 2: Round 5.23222 to two decimal places**"
   ]
  },
  {
   "cell_type": "code",
   "execution_count": 5,
   "metadata": {},
   "outputs": [
    {
     "name": "stdout",
     "output_type": "stream",
     "text": [
      "The number 5.23222 rounded to 2 decimal places is: 5.23\n"
     ]
    }
   ],
   "source": [
    "print('The number 5.23222 rounded to 2 decimal places is:',  round(5.23222,2))"
   ]
  },
  {
   "cell_type": "markdown",
   "metadata": {},
   "source": [
    "## Advanced Strings\n",
    "**Problem 3: Check if every letter in the string s is lower case**"
   ]
  },
  {
   "cell_type": "code",
   "execution_count": 10,
   "metadata": {},
   "outputs": [
    {
     "name": "stdout",
     "output_type": "stream",
     "text": [
      "Is every letter in  string s lowered ?: False\n"
     ]
    }
   ],
   "source": [
    "s = 'hello how are you Mary, are you feeling okay?'\n",
    "print('Is every letter in  string s lowered ?:', s.islower())\n",
    "\n"
   ]
  },
  {
   "cell_type": "markdown",
   "metadata": {},
   "source": [
    "**Problem 4: How many times does the letter 'w' show up in the string below?**"
   ]
  },
  {
   "cell_type": "code",
   "execution_count": 28,
   "metadata": {},
   "outputs": [
    {
     "name": "stdout",
     "output_type": "stream",
     "text": [
      "The number of times that the letter \"w\" appears in the stirng s is:   12\n"
     ]
    }
   ],
   "source": [
    "s = 'twywywtwywbwhsjhwuwshshwuwwwjdjdid'\n",
    "print('The number of times that the letter \"w\" appears in the stirng s is:  ', s.count('w'))\n"
   ]
  },
  {
   "cell_type": "markdown",
   "metadata": {},
   "source": [
    "## Advanced Sets\n",
    "**Problem 5: Find the elements in set1 that are not in set2:**"
   ]
  },
  {
   "cell_type": "code",
   "execution_count": 17,
   "metadata": {},
   "outputs": [
    {
     "name": "stdout",
     "output_type": "stream",
     "text": [
      "The element(s) that are in set 1 not present in set 2 are: {2}\n",
      "The element(s) that are in set 2 not present in set 1 are: {7}\n"
     ]
    }
   ],
   "source": [
    "set1 = {2,3,1,5,6,8}\n",
    "set2 = {3,1,7,5,6,8}\n",
    "print('The element(s) that are in set 1 not present in set 2 are:', set1.difference(set2))\n",
    "print('The element(s) that are in set 2 not present in set 1 are:', set2.difference(set1))\n",
    "\n"
   ]
  },
  {
   "cell_type": "markdown",
   "metadata": {},
   "source": [
    "**Problem 6: Find all elements that are in either set:**"
   ]
  },
  {
   "cell_type": "code",
   "execution_count": 18,
   "metadata": {},
   "outputs": [
    {
     "name": "stdout",
     "output_type": "stream",
     "text": [
      "The elements that are in either set are:  {1, 3, 5, 6, 8}\n"
     ]
    }
   ],
   "source": [
    "print('The elements that are in either set are: ', set1.intersection(set2))"
   ]
  },
  {
   "cell_type": "markdown",
   "metadata": {},
   "source": [
    "## Advanced Dictionaries\n",
    "\n",
    "**Problem 7: Create this dictionary:\n",
    "{0: 0, 1: 1, 2: 8, 3: 27, 4: 64}\n",
    " using a dictionary comprehension.**"
   ]
  },
  {
   "cell_type": "code",
   "execution_count": 24,
   "metadata": {},
   "outputs": [
    {
     "data": {
      "text/plain": [
       "{0: 0, 1: 1, 2: 8, 3: 27, 4: 64}"
      ]
     },
     "execution_count": 24,
     "metadata": {},
     "output_type": "execute_result"
    }
   ],
   "source": [
    "the_comp = {x:x**3 for x in range(5)}\n",
    "the_comp"
   ]
  },
  {
   "cell_type": "markdown",
   "metadata": {},
   "source": [
    "## Advanced Lists\n",
    "\n",
    "**Problem 8: Reverse the list below:**"
   ]
  },
  {
   "cell_type": "code",
   "execution_count": 26,
   "metadata": {},
   "outputs": [
    {
     "data": {
      "text/plain": [
       "[4, 3, 2, 1]"
      ]
     },
     "execution_count": 26,
     "metadata": {},
     "output_type": "execute_result"
    }
   ],
   "source": [
    "list1 = [1,2,3,4]\n",
    "list1.reverse()\n",
    "list1\n"
   ]
  },
  {
   "cell_type": "markdown",
   "metadata": {},
   "source": [
    "**Problem 9: Sort the list below:**"
   ]
  },
  {
   "cell_type": "code",
   "execution_count": 30,
   "metadata": {},
   "outputs": [
    {
     "data": {
      "text/plain": [
       "[1, 2, 3, 4, 5]"
      ]
     },
     "execution_count": 30,
     "metadata": {},
     "output_type": "execute_result"
    }
   ],
   "source": [
    "list2 = [3,4,2,5,1]\n",
    "list2.sort()\n",
    "list2\n"
   ]
  },
  {
   "cell_type": "markdown",
   "metadata": {},
   "source": [
    "# Great Job!"
   ]
  }
 ],
 "metadata": {
  "kernelspec": {
   "display_name": "Python 3",
   "language": "python",
   "name": "python3"
  },
  "language_info": {
   "codemirror_mode": {
    "name": "ipython",
    "version": 3
   },
   "file_extension": ".py",
   "mimetype": "text/x-python",
   "name": "python",
   "nbconvert_exporter": "python",
   "pygments_lexer": "ipython3",
   "version": "3.7.7"
  }
 },
 "nbformat": 4,
 "nbformat_minor": 4
}
