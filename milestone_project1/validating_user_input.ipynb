{
 "cells": [
  {
   "cell_type": "code",
   "execution_count": 3,
   "metadata": {},
   "outputs": [],
   "source": [
    "# In order to get the user to input correect data type in \n",
    "# a variable that accepts user input. \n",
    "# We can use a while looop to do so  \n",
    "\n",
    "def user_choice():\n",
    "    choice = input(\"Please enter a number(1-10): \")\n",
    "    \n",
    "    return int(choice)"
   ]
  },
  {
   "cell_type": "code",
   "execution_count": 4,
   "metadata": {},
   "outputs": [
    {
     "name": "stdout",
     "output_type": "stream",
     "text": [
      "Please enter a number(1-10): 10\n"
     ]
    },
    {
     "data": {
      "text/plain": [
       "10"
      ]
     },
     "execution_count": 4,
     "metadata": {},
     "output_type": "execute_result"
    }
   ],
   "source": [
    "user_choice()"
   ]
  },
  {
   "cell_type": "code",
   "execution_count": 5,
   "metadata": {},
   "outputs": [],
   "source": [
    "# Use the notes on this section of the  course to see \n",
    "# various sites that teaches you how to validate user input \n",
    "# My re-write of the user_choice function with a is digit check \n",
    "def user_choice():\n",
    "    choice = input(\"Please enter a number (0-10): \")\n",
    "    while not choice.isdigit():\n",
    "        choice = input(\"Please enter a number (0-10): \")\n",
    "    return int(choice)"
   ]
  },
  {
   "cell_type": "code",
   "execution_count": 6,
   "metadata": {},
   "outputs": [
    {
     "name": "stdout",
     "output_type": "stream",
     "text": [
      "Please enter a number (0-10): a\n",
      "Please enter a number (0-10): a\n",
      "Please enter a number (0-10): 10\n"
     ]
    },
    {
     "data": {
      "text/plain": [
       "10"
      ]
     },
     "execution_count": 6,
     "metadata": {},
     "output_type": "execute_result"
    }
   ],
   "source": [
    "user_choice()"
   ]
  },
  {
   "cell_type": "code",
   "execution_count": 7,
   "metadata": {},
   "outputs": [],
   "source": [
    "# You can print out an error message to the user stating that \n",
    "# the input entered is incorrect \n",
    "def user_choice():\n",
    "    choice = input(\"Please enter a number (0-10): \")\n",
    "    while not choice.isdigit():\n",
    "        if not choice.isdigit():\n",
    "            print(\"Sorry you have entered an incorrect input.\")\n",
    "        choice = input(\"Please enter a number (0-10): \")\n",
    "\n",
    "    return int(choice)\n",
    "\n"
   ]
  },
  {
   "cell_type": "code",
   "execution_count": 13,
   "metadata": {},
   "outputs": [
    {
     "name": "stdout",
     "output_type": "stream",
     "text": [
      "Please enter a number (0-10): 10\n"
     ]
    },
    {
     "data": {
      "text/plain": [
       "10"
      ]
     },
     "execution_count": 13,
     "metadata": {},
     "output_type": "execute_result"
    }
   ],
   "source": [
    "user_choice()"
   ]
  },
  {
   "cell_type": "code",
   "execution_count": 3,
   "metadata": {},
   "outputs": [],
   "source": [
    "# You can print out an error message to the user stating that\n",
    "# the input entered is incorrect\n",
    "\n",
    "\n",
    "# Check if the user input entered is both a digit and within\n",
    "# a specified range. This is a rewrite of the function\n",
    "\n",
    "def user_choice():\n",
    "    # Variables\n",
    "\n",
    "    # Initial\n",
    "    choice = \"0\"\n",
    "    acceptable_range = range(0, 11)\n",
    "    within_range = False\n",
    "\n",
    "    # Two conditions to check\n",
    "    # Digit or within  range == False\n",
    "    while not choice.isdigit() or not within_range:\n",
    "\n",
    "        if not choice.isdigit():\n",
    "            print(\"You have entered a non-digit\")\n",
    "        choice = input(\"Please enter a number (0-10): \")\n",
    "\n",
    "        # Range check\n",
    "        if choice.isdigit():\n",
    "            if int(choice) in acceptable_range:\n",
    "                within_range = True\n",
    "            else:\n",
    "                print(\"Sorry, you are out of range\")\n",
    "                within_range = False\n",
    "\n",
    "    return int(choice)\n",
    "\n",
    "\n"
   ]
  },
  {
   "cell_type": "code",
   "execution_count": 4,
   "metadata": {},
   "outputs": [
    {
     "name": "stdout",
     "output_type": "stream",
     "text": [
      "Please enter a number (0-10): A\n",
      "You have entered a non-digit\n",
      "Please enter a number (0-10): Q\n",
      "You have entered a non-digit\n",
      "Please enter a number (0-10): 15\n",
      "Sorry, you are out of range\n"
     ]
    },
    {
     "data": {
      "text/plain": [
       "10"
      ]
     },
     "execution_count": 4,
     "metadata": {},
     "output_type": "execute_result"
    }
   ],
   "source": [
    "user_choice()\n"
   ]
  },
  {
   "cell_type": "code",
   "execution_count": null,
   "metadata": {},
   "outputs": [],
   "source": []
  }
 ],
 "metadata": {
  "kernelspec": {
   "display_name": "Python 3",
   "language": "python",
   "name": "python3"
  },
  "language_info": {
   "codemirror_mode": {
    "name": "ipython",
    "version": 3
   },
   "file_extension": ".py",
   "mimetype": "text/x-python",
   "name": "python",
   "nbconvert_exporter": "python",
   "pygments_lexer": "ipython3",
   "version": "3.7.7"
  }
 },
 "nbformat": 4,
 "nbformat_minor": 4
}
