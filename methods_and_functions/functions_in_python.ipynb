{
 "cells": [
  {
   "cell_type": "code",
   "execution_count": 1,
   "metadata": {},
   "outputs": [],
   "source": [
    "# Typically the return statement allows us to assign the \n",
    "# output of the function to a new variable \n",
    "\n",
    "# Example of a function in use \n",
    "def add_function(num1, num2):\n",
    "    return num1 + num2"
   ]
  },
  {
   "cell_type": "code",
   "execution_count": 11,
   "metadata": {},
   "outputs": [
    {
     "name": "stdout",
     "output_type": "stream",
     "text": [
      "11\n"
     ]
    }
   ],
   "source": [
    "result = add_function(2,9)\n",
    "print(result)"
   ]
  },
  {
   "cell_type": "code",
   "execution_count": 17,
   "metadata": {},
   "outputs": [
    {
     "name": "stdout",
     "output_type": "stream",
     "text": [
      "Hello Marvin\n"
     ]
    }
   ],
   "source": [
    "def name_function(name):\n",
    "    \"\"\"\n",
    "    DOCSTRING: This is a function that is \n",
    "    used to print out hello world \n",
    "    INPUT: name\n",
    "    OUTPUT: \"Hello, %name \"\n",
    "    \"\"\"\n",
    "    print(\"Hello {}\".format(name))\n",
    "\n",
    "name_function(\"Marvin\")"
   ]
  },
  {
   "cell_type": "code",
   "execution_count": 18,
   "metadata": {},
   "outputs": [
    {
     "name": "stdout",
     "output_type": "stream",
     "text": [
      "Help on function name_function in module __main__:\n",
      "\n",
      "name_function(name)\n",
      "    DOCSTRING: This is a function that is \n",
      "    used to print out hello world \n",
      "    INPUT: name\n",
      "    OUTPUT: \"Hello, %name \"\n",
      "\n"
     ]
    }
   ],
   "source": [
    "# Call help on the name_function\n",
    "help(name_function)"
   ]
  },
  {
   "cell_type": "code",
   "execution_count": 23,
   "metadata": {},
   "outputs": [
    {
     "name": "stdout",
     "output_type": "stream",
     "text": [
      "Hello Marvin DaCosta\n"
     ]
    }
   ],
   "source": [
    "# Redifine the function to take name \n",
    "# parameter\n",
    "def say_hello(name):\n",
    "    print(\"Hello \" + name)\n",
    "say_hello(\"Marvin DaCosta\")"
   ]
  },
  {
   "cell_type": "code",
   "execution_count": 24,
   "metadata": {},
   "outputs": [
    {
     "name": "stdout",
     "output_type": "stream",
     "text": [
      "Hello Mike\n"
     ]
    }
   ],
   "source": [
    "result = say_hello('Mike')"
   ]
  },
  {
   "cell_type": "code",
   "execution_count": 25,
   "metadata": {},
   "outputs": [],
   "source": [
    "result\n",
    "\"\"\" \n",
    "This will not return anything brecause \n",
    "it is a none type\n",
    "\"\"\""
   ]
  },
  {
   "cell_type": "code",
   "execution_count": 26,
   "metadata": {},
   "outputs": [],
   "source": [
    "# change the print in say_hello() to \n",
    "# return \n",
    "\n",
    "def say_hello(name):\n",
    "    return 'hello ' + name\n"
   ]
  },
  {
   "cell_type": "code",
   "execution_count": 27,
   "metadata": {},
   "outputs": [
    {
     "data": {
      "text/plain": [
       "NoneType"
      ]
     },
     "execution_count": 27,
     "metadata": {},
     "output_type": "execute_result"
    }
   ],
   "source": [
    "type(result)"
   ]
  },
  {
   "cell_type": "code",
   "execution_count": 30,
   "metadata": {},
   "outputs": [],
   "source": [
    "result = say_hello(\"Nicole\")"
   ]
  },
  {
   "cell_type": "code",
   "execution_count": 31,
   "metadata": {},
   "outputs": [
    {
     "data": {
      "text/plain": [
       "'hello Nicole'"
      ]
     },
     "execution_count": 31,
     "metadata": {},
     "output_type": "execute_result"
    }
   ],
   "source": [
    "result"
   ]
  },
  {
   "cell_type": "code",
   "execution_count": 32,
   "metadata": {},
   "outputs": [
    {
     "data": {
      "text/plain": [
       "50"
      ]
     },
     "execution_count": 32,
     "metadata": {},
     "output_type": "execute_result"
    }
   ],
   "source": [
    "def add(n1,n2):\n",
    "    return n1+n2\n",
    "result =  add(20,30)\n",
    "result"
   ]
  },
  {
   "cell_type": "code",
   "execution_count": 33,
   "metadata": {},
   "outputs": [
    {
     "data": {
      "text/plain": [
       "False"
      ]
     },
     "execution_count": 33,
     "metadata": {},
     "output_type": "execute_result"
    }
   ],
   "source": [
    "# Create a funvtion to check if the word dog\n",
    "# is in a string\n",
    "\n",
    "def dog_check(string):\n",
    "    if 'dog' in string:\n",
    "        return True\n",
    "    else: \n",
    "        return False\n",
    "dog_check('My Dog ran away')\n",
    "# Will result in False because function\n",
    "# is only checking for upper case 'Dog'\n"
   ]
  },
  {
   "cell_type": "code",
   "execution_count": 34,
   "metadata": {},
   "outputs": [],
   "source": [
    "# Corrects the case problem for the word dog\n",
    "\n",
    "def dog_check(myString):\n",
    "    if 'dog' in myString.lower():\n",
    "        return True\n",
    "    else:\n",
    "        return False"
   ]
  },
  {
   "cell_type": "code",
   "execution_count": 9,
   "metadata": {},
   "outputs": [],
   "source": [
    "#Function can be improved even more\n",
    "# by retuning the boolean statement\n",
    "\n",
    "def dog_check(myString):\n",
    "    return 'dog' in myString.lower()"
   ]
  },
  {
   "cell_type": "code",
   "execution_count": 18,
   "metadata": {},
   "outputs": [],
   "source": [
    "def pig_latin(word):\n",
    "    vowels = ['a','e','i','o','u']\n",
    "    Uvowels = ['A','E','I','O','U']\n",
    "    first_letter = word[0]\n",
    "    if first_letter in vowels or first_letter in Uvowels:\n",
    "        pig_word = word + 'ay'\n",
    "    else:\n",
    "        pig_word = word[1:] + first_letter +'ay'\n",
    "        \n",
    "    return pig_word\n",
    "                   \n",
    "                       \n",
    "                   \n",
    "        \n",
    "    "
   ]
  },
  {
   "cell_type": "code",
   "execution_count": 19,
   "metadata": {},
   "outputs": [
    {
     "data": {
      "text/plain": [
       "'Appleay'"
      ]
     },
     "execution_count": 19,
     "metadata": {},
     "output_type": "execute_result"
    }
   ],
   "source": [
    "pig_latin(\"Apple\")\n"
   ]
  },
  {
   "cell_type": "code",
   "execution_count": 20,
   "metadata": {},
   "outputs": [
    {
     "data": {
      "text/plain": [
       "'orbayGay'"
      ]
     },
     "execution_count": 20,
     "metadata": {},
     "output_type": "execute_result"
    }
   ],
   "source": [
    "pig_latin('Gorbay')"
   ]
  },
  {
   "cell_type": "code",
   "execution_count": null,
   "metadata": {},
   "outputs": [],
   "source": []
  },
  {
   "cell_type": "code",
   "execution_count": null,
   "metadata": {},
   "outputs": [],
   "source": []
  }
 ],
 "metadata": {
  "kernelspec": {
   "display_name": "Python 3",
   "language": "python",
   "name": "python3"
  },
  "language_info": {
   "codemirror_mode": {
    "name": "ipython",
    "version": 3
   },
   "file_extension": ".py",
   "mimetype": "text/x-python",
   "name": "python",
   "nbconvert_exporter": "python",
   "pygments_lexer": "ipython3",
   "version": "3.7.7"
  }
 },
 "nbformat": 4,
 "nbformat_minor": 4
}
