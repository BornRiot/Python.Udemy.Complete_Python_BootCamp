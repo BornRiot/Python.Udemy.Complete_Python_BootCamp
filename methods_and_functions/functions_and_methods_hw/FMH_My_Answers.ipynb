{
 "cells": [
  {
   "cell_type": "markdown",
   "metadata": {},
   "source": [
    "# Functions and Methods Homework \n",
    "\n",
    "Complete the following questions:\n",
    "____\n",
    "**Write a function that computes the volume of a sphere given its radius.**\n",
    "<p>The volume of a sphere is given as $$\\frac{4}{3} πr^3$$</p>"
   ]
  },
  {
   "cell_type": "code",
   "execution_count": 3,
   "metadata": {},
   "outputs": [],
   "source": [
    "def vol(rad):\n",
    "    \"\"\"\n",
    "    This function is used to take the  radius of a sphere and calculate\n",
    "    its voloume using the equation (a/b)(Pi(r**3))\n",
    "    \"\"\"\n",
    "    the_vol = lambda radius: (4/3)*(3.14159265359*(radius**3))\n",
    "    return the_vol(rad)\n"
   ]
  },
  {
   "cell_type": "code",
   "execution_count": 4,
   "metadata": {},
   "outputs": [
    {
     "data": {
      "text/plain": [
       "33.510321638293334"
      ]
     },
     "execution_count": 4,
     "metadata": {},
     "output_type": "execute_result"
    }
   ],
   "source": [
    "vol(2)"
   ]
  },
  {
   "cell_type": "markdown",
   "metadata": {},
   "source": [
    "**Write a function that checks whether a number is in a given range (inclusive of high and low)**"
   ]
  },
  {
   "cell_type": "code",
   "execution_count": 23,
   "metadata": {},
   "outputs": [],
   "source": [
    "def ran_check(num, low, high):\n",
    "    return num in range(low, high+1)"
   ]
  },
  {
   "cell_type": "code",
   "execution_count": 24,
   "metadata": {},
   "outputs": [
    {
     "data": {
      "text/plain": [
       "True"
      ]
     },
     "execution_count": 24,
     "metadata": {},
     "output_type": "execute_result"
    }
   ],
   "source": [
    "ran_check(7,6,9)"
   ]
  },
  {
   "cell_type": "markdown",
   "metadata": {},
   "source": [
    "**Write a Python function that accepts a string and calculates the number of upper case letters and lower case letters.**\n",
    "\n",
    "    Sample String : 'Hello Mr. Rogers, how are you this fine Tuesday?'\n",
    "    Expected Output : \n",
    "    No. of Upper case characters : 4\n",
    "    No. of Lower case Characters : 33\n",
    "\n",
    "HINT: Two string methods that might prove useful: **.isupper()** and **.islower()**\n",
    "\n",
    "If you feel ambitious, explore the Collections module to solve this problem!"
   ]
  },
  {
   "cell_type": "code",
   "execution_count": 3,
   "metadata": {},
   "outputs": [
    {
     "name": "stdout",
     "output_type": "stream",
     "text": [
      "There are 4 upper case and 33 lower case characters in the string\n"
     ]
    }
   ],
   "source": [
    "SAMPLE_STRING = 'Hello Mr. Rogers, how are you this fine Tuesday?'\n",
    "def count_loop(the_string):\n",
    "    count_u = 0\n",
    "    count_l = 0\n",
    "    for case in the_string:\n",
    "        if case.isupper():\n",
    "            count_u += 1\n",
    "        elif case.islower():\n",
    "            count_l += 1\n",
    "    return count_l, count_u\n",
    "\n",
    "\n",
    "lower, upper = count_loop(SAMPLE_STRING)\n",
    "print(\"There are\", upper, \"upper case and\", lower,\\\n",
    "      \"lower case characters in the string\")\n"
   ]
  },
  {
   "cell_type": "code",
   "execution_count": 1,
   "metadata": {},
   "outputs": [],
   "source": [
    "\"\"\"\n",
    "Second attempt at a solution for counting upper an lower case characters in \n",
    "a string \n",
    "\"\"\"\n",
    "from collections import Counter\n",
    "\n",
    "SAMPLE_STRING = 'Hello Mr. Rogers, how are you this fine Tuesday?'\n",
    "def up_low(sentence):\n",
    "    \"\"\"Function docstring\"\"\"\n",
    "    # Working with upper case characters\n",
    "    split_sen = sentence.split(\" \")\n",
    "    upper_letters_list = [x for x in split_sen if x[0].isupper()]\n",
    "    upper_letters_count = Counter(upper_letters_list)\n",
    "    upper_letters_lenght = len(upper_letters_count)\n",
    "\n",
    "    # Working with lower case characters\n",
    "    lower_letters_list = [x for x in sentence if x.islower()]\n",
    "    lower_letters_count = len((lower_letters_list))\n",
    "\n",
    "    return upper_letters_lenght, lower_letters_count\n",
    "\n",
    "\n"
   ]
  },
  {
   "cell_type": "code",
   "execution_count": 2,
   "metadata": {},
   "outputs": [
    {
     "name": "stdout",
     "output_type": "stream",
     "text": [
      "Original String: Hello Mr. Rogers, how are you this fine Tuesday?\n",
      "No. of Upper case characters: 4\n",
      "No. of Lower case characters: 33\n"
     ]
    }
   ],
   "source": [
    "upper_case, lower_case = up_low(SAMPLE_STRING)\n",
    "print(\"Original String: {string}\".format(string=SAMPLE_STRING))\n",
    "print(\"No. of Upper case characters: {num}\".format(num=upper_case))\n",
    "print(\"No. of Lower case characters: {num}\".format(num=lower_case))"
   ]
  },
  {
   "cell_type": "code",
   "execution_count": null,
   "metadata": {},
   "outputs": [],
   "source": []
  }
 ],
 "metadata": {
  "kernelspec": {
   "display_name": "Python 3",
   "language": "python",
   "name": "python3"
  },
  "language_info": {
   "codemirror_mode": {
    "name": "ipython",
    "version": 3
   },
   "file_extension": ".py",
   "mimetype": "text/x-python",
   "name": "python",
   "nbconvert_exporter": "python",
   "pygments_lexer": "ipython3",
   "version": "3.7.7"
  }
 },
 "nbformat": 4,
 "nbformat_minor": 4
}
