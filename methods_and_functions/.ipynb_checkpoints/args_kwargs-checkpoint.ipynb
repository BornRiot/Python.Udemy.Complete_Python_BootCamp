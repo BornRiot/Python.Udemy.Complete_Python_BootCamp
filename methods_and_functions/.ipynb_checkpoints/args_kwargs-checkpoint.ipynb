{
 "cells": [
  {
   "cell_type": "code",
   "execution_count": 7,
   "metadata": {},
   "outputs": [],
   "source": [
    "# args = arguments and kwargs= keyword arguments\n",
    "# used to defin and arbitrary number of arguments for functions\n",
    "\n",
    "def my_func(a,b):\n",
    "    # Returns 5% of the sum of a and b\n",
    "    return sum((a,b))*0.05"
   ]
  },
  {
   "cell_type": "code",
   "execution_count": 9,
   "metadata": {},
   "outputs": [
    {
     "data": {
      "text/plain": [
       "5.0"
      ]
     },
     "execution_count": 9,
     "metadata": {},
     "output_type": "execute_result"
    }
   ],
   "source": [
    "my_func(40, 60)"
   ]
  },
  {
   "cell_type": "code",
   "execution_count": 11,
   "metadata": {},
   "outputs": [],
   "source": [
    "# The *args allows you to accept any amount of arguemtns in a functions \n",
    "# parameter\n",
    "def my_func(*args):\n",
    "    return sum(args) * 0.05\n"
   ]
  },
  {
   "cell_type": "code",
   "execution_count": 12,
   "metadata": {},
   "outputs": [
    {
     "data": {
      "text/plain": [
       "23.8"
      ]
     },
     "execution_count": 12,
     "metadata": {},
     "output_type": "execute_result"
    }
   ],
   "source": [
    "my_func(5,25,98,47,69,87,87,58) # parameter can now take more than \n",
    "# six arguments "
   ]
  },
  {
   "cell_type": "code",
   "execution_count": 25,
   "metadata": {},
   "outputs": [
    {
     "name": "stdout",
     "output_type": "stream",
     "text": [
      "Here is your stuff: (25, 36, 98, 78, 54, 14, 98, 74, 58, 68)\n"
     ]
    }
   ],
   "source": [
    "# *args can be called any other name for the parameter \n",
    "def my_func(*the_stuff):\n",
    "    my_val = the_stuff\n",
    "    for x in my_val:\n",
    "        print( 'Here is your stuff:', my_val)\n",
    "        break \n",
    "\n",
    "my_func(25,36,98,78,54,14,98,74,58,68)\n"
   ]
  },
  {
   "cell_type": "code",
   "execution_count": 31,
   "metadata": {},
   "outputs": [],
   "source": [
    "# **kwargs returns the results in the form of a dictionary \n",
    "# Example\n",
    "def my_func(**kwargs):\n",
    "    print(kwargs)\n",
    "    if 'fruit' in kwargs:\n",
    "        print(\"My fruit of choice is {}\".format(kwargs['fruit']))\n",
    "    else:\n",
    "        print('I did not find any fruit here')\n",
    "    "
   ]
  },
  {
   "cell_type": "code",
   "execution_count": 32,
   "metadata": {},
   "outputs": [
    {
     "name": "stdout",
     "output_type": "stream",
     "text": [
      "{'fruit': 'Watermelon'}\n",
      "My fruit of choice is Watermelon\n"
     ]
    }
   ],
   "source": [
    "my_func(fruit = \"Watermelon\")"
   ]
  },
  {
   "cell_type": "code",
   "execution_count": 33,
   "metadata": {},
   "outputs": [
    {
     "name": "stdout",
     "output_type": "stream",
     "text": [
      "{'fruit': 'Apples', 'veggie': 'Brusslesprouts'}\n",
      "My fruit of choice is Apples\n"
     ]
    }
   ],
   "source": [
    "# The kwargs also allows you to pass in other keywords without \n",
    "# first defining them in the function\n",
    "my_func(fruit = \"Apples\", veggie = 'Brusslesprouts')"
   ]
  },
  {
   "cell_type": "code",
   "execution_count": 37,
   "metadata": {},
   "outputs": [],
   "source": [
    "# kwargs and args can be used together in the same parameter\n",
    "def my_func(*args, **kwargs):\n",
    "    print(args)\n",
    "    print(kwargs)\n",
    "    print(\"I would like {}, {},  \".format(args[0], kwargs['food']))"
   ]
  },
  {
   "cell_type": "code",
   "execution_count": 38,
   "metadata": {},
   "outputs": [
    {
     "name": "stdout",
     "output_type": "stream",
     "text": [
      "(10, 20, 30)\n",
      "{'fruit': 'orange', 'food': 'eggs', 'animal': 'dog'}\n",
      "I would like 10, eggs,  \n"
     ]
    }
   ],
   "source": [
    "my_func(10,20,30, fruit= 'orange', food = 'eggs', animal = 'dog')"
   ]
  },
  {
   "cell_type": "code",
   "execution_count": null,
   "metadata": {},
   "outputs": [],
   "source": []
  }
 ],
 "metadata": {
  "kernelspec": {
   "display_name": "Python 3",
   "language": "python",
   "name": "python3"
  },
  "language_info": {
   "codemirror_mode": {
    "name": "ipython",
    "version": 3
   },
   "file_extension": ".py",
   "mimetype": "text/x-python",
   "name": "python",
   "nbconvert_exporter": "python",
   "pygments_lexer": "ipython3",
   "version": "3.7.7"
  }
 },
 "nbformat": 4,
 "nbformat_minor": 4
}
