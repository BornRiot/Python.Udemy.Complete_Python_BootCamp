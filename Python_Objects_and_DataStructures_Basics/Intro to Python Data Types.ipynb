{
 "cells": [
  {
   "cell_type": "code",
   "execution_count": null,
   "metadata": {},
   "outputs": [],
   "source": [
    "Data Types in Python\n",
    "Name                 Type                             Description       \n",
    "Integers             int                              whole numbers such as 3, 300, 200\n",
    "Floating Points      float                            numbers with a decumal point (2.9,5.9, 330.76)\n",
    "Strings              str                              Ordered sequence of characters (\"sammy\", \"hello\", \"2000\")\n",
    "Lists                list                             ordered sequence of objects: [10, \"hello\", 200.3]      \n",
    "Dictionaries         dict                             Unordered key; value pairs: {\"mykeys\":\"value\", \"name\":\"Frankie\" }\n",
    "Tuples               tup                              ordered immutable sequence of objects:(10, \"hello\", 200.3)\n",
    "Sets                 set                              un ordered colletion of unique objects:(\"a\", \"b\")\n",
    "Booleans             bool                             logical value indicating t/d(True, False)"
   ]
  },
  {
   "cell_type": "code",
   "execution_count": null,
   "metadata": {},
   "outputs": [],
   "source": [
    "#These data types are the basic building blocks for python. These are python internal keywords \n",
    "#Daata structures are used to hold data objects in a particular order\n",
    "#Data structures in python include lists, dictionaries, tuples, sets,"
   ]
  }
 ],
 "metadata": {
  "kernelspec": {
   "display_name": "Python 3",
   "language": "python",
   "name": "python3"
  },
  "language_info": {
   "codemirror_mode": {
    "name": "ipython",
    "version": 3
   },
   "file_extension": ".py",
   "mimetype": "text/x-python",
   "name": "python",
   "nbconvert_exporter": "python",
   "pygments_lexer": "ipython3",
   "version": "3.7.3"
  }
 },
 "nbformat": 4,
 "nbformat_minor": 2
}
