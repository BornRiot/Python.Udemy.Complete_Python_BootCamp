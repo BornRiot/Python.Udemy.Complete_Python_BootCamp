{
 "cells": [
  {
   "cell_type": "code",
   "execution_count": 23,
   "metadata": {},
   "outputs": [
    {
     "name": "stdout",
     "output_type": "stream",
     "text": [
      "Writing C:\\DevEx\\IdeaProjects\\Python.Udemy.Complete_Python_BootCamp\\Python_Objects_and_DataStructures_Basics\\myfile.txt\n"
     ]
    }
   ],
   "source": [
    "#The topic ccovered in this lecture covers input and output for files in Pythpn\n",
    "#The files range in difference from text files to audio files and etc.\n",
    "#lecture covers file paths in your computer\n",
    "#you can write a text file in jupyter using the following."
   ]
  },
  {
   "cell_type": "code",
   "execution_count": 25,
   "metadata": {},
   "outputs": [
    {
     "name": "stdout",
     "output_type": "stream",
     "text": [
      "Overwriting C:\\DevEx\\IdeaProjects\\Python.Udemy.Complete_Python_BootCamp\\Python_Objects_and_DataStructures_Basics\\myfile.txt\n"
     ]
    }
   ],
   "source": [
    "%%writefile C:\\DevEx\\IdeaProjects\\Python.Udemy.Complete_Python_BootCamp\\Python_Objects_and_DataStructures_Basics\\myfile.txt\n",
    "    Hello this is a text file\n",
    "    this is the second line\n",
    "    this is the third line\n"
   ]
  },
  {
   "cell_type": "code",
   "execution_count": 26,
   "metadata": {},
   "outputs": [],
   "source": [
    "#errors that occur are typing in wrong file names or searching in the wrong directory \n",
    "myfile = open('myfile.txt')"
   ]
  },
  {
   "cell_type": "code",
   "execution_count": 27,
   "metadata": {},
   "outputs": [
    {
     "ename": "FileNotFoundError",
     "evalue": "[Errno 2] No such file or directory: 'whoops_wrong.txt'",
     "output_type": "error",
     "traceback": [
      "\u001b[1;31m---------------------------------------------------------------------------\u001b[0m",
      "\u001b[1;31mFileNotFoundError\u001b[0m                         Traceback (most recent call last)",
      "\u001b[1;32m<ipython-input-27-8d94c7c80b4a>\u001b[0m in \u001b[0;36m<module>\u001b[1;34m\u001b[0m\n\u001b[1;32m----> 1\u001b[1;33m \u001b[0mmyfile\u001b[0m \u001b[1;33m=\u001b[0m \u001b[0mopen\u001b[0m\u001b[1;33m(\u001b[0m\u001b[1;34m'whoops_wrong.txt'\u001b[0m\u001b[1;33m)\u001b[0m\u001b[1;33m\u001b[0m\u001b[1;33m\u001b[0m\u001b[0m\n\u001b[0m",
      "\u001b[1;31mFileNotFoundError\u001b[0m: [Errno 2] No such file or directory: 'whoops_wrong.txt'"
     ]
    }
   ],
   "source": [
    "myfile = open('whoops_wrong.txt')"
   ]
  },
  {
   "cell_type": "code",
   "execution_count": 30,
   "metadata": {},
   "outputs": [
    {
     "data": {
      "text/plain": [
       "'C:\\\\DevEx\\\\IdeaProjects\\\\Python.Udemy.Complete_Python_BootCamp\\\\Python_Objects_and_DataStructures_Basics'"
      ]
     },
     "execution_count": 30,
     "metadata": {},
     "output_type": "execute_result"
    }
   ],
   "source": [
    "pwd #To print the current directory of Jupyter notebook"
   ]
  },
  {
   "cell_type": "code",
   "execution_count": 32,
   "metadata": {},
   "outputs": [],
   "source": [
    "myfile = open('myfile.txt')"
   ]
  },
  {
   "cell_type": "code",
   "execution_count": 33,
   "metadata": {},
   "outputs": [
    {
     "data": {
      "text/plain": [
       "'    Hello this is a text file\\n    this is the second line\\n    this is the third line\\n'"
      ]
     },
     "execution_count": 33,
     "metadata": {},
     "output_type": "execute_result"
    }
   ],
   "source": [
    "myfile.read()"
   ]
  },
  {
   "cell_type": "code",
   "execution_count": 34,
   "metadata": {},
   "outputs": [
    {
     "data": {
      "text/plain": [
       "0"
      ]
     },
     "execution_count": 34,
     "metadata": {},
     "output_type": "execute_result"
    }
   ],
   "source": [
    "#myfile.read will not read the file a second time due to the cursor being at the end of the file\n",
    "#to get the cursor back to the beginning of the fi;e, use the following steps \n",
    "myfile.seek(0)"
   ]
  },
  {
   "cell_type": "code",
   "execution_count": 35,
   "metadata": {},
   "outputs": [
    {
     "data": {
      "text/plain": [
       "'    Hello this is a text file\\n    this is the second line\\n    this is the third line\\n'"
      ]
     },
     "execution_count": 35,
     "metadata": {},
     "output_type": "execute_result"
    }
   ],
   "source": [
    "myfile.read()"
   ]
  },
  {
   "cell_type": "code",
   "execution_count": 39,
   "metadata": {},
   "outputs": [
    {
     "name": "stdout",
     "output_type": "stream",
     "text": [
      "    Hello this is a text file\n",
      "    this is the second line\n",
      "    this is the third line\n",
      "\n",
      "    Hello this is a text file\n",
      "    this is the second line\n",
      "    this is the third line\n",
      "\n"
     ]
    }
   ],
   "source": [
    "#you can reset the cursor and assign the contents to a variable to permanently store the info by doing  \n",
    "myfile.seek(0)\n",
    "the_contents = myfile.read()\n",
    "print(the_contents)\n",
    "print(the_contents)"
   ]
  },
  {
   "cell_type": "code",
   "execution_count": 40,
   "metadata": {},
   "outputs": [
    {
     "data": {
      "text/plain": [
       "['    Hello this is a text file\\n',\n",
       " '    this is the second line\\n',\n",
       " '    this is the third line\\n']"
      ]
     },
     "execution_count": 40,
     "metadata": {},
     "output_type": "execute_result"
    }
   ],
   "source": [
    "#you can use the .readlines method to read each individual lin that was created in the file\n",
    "myfile.seek(0)\n",
    "myfile.readlines()"
   ]
  },
  {
   "cell_type": "code",
   "execution_count": 44,
   "metadata": {},
   "outputs": [],
   "source": [
    "#To search for a file in a specific location from working directory in windows\n",
    "#myfile = open(\"C:\\\\users\\\\username\\\\folder\\\\theFile.txt\")\n",
    "#It is good practice to close files after they are open using the follwoing method\n",
    "myfile.close()"
   ]
  },
  {
   "cell_type": "code",
   "execution_count": 46,
   "metadata": {},
   "outputs": [],
   "source": [
    "#In order to avoid misshaps with not closing files, you can open the using:\n",
    "with open ('myfile.txt') as my_new_file:\n",
    "    contents = my_new_file.read()"
   ]
  },
  {
   "cell_type": "code",
   "execution_count": 47,
   "metadata": {},
   "outputs": [
    {
     "name": "stdout",
     "output_type": "stream",
     "text": [
      "    Hello this is a text file\n",
      "    this is the second line\n",
      "    this is the third line\n",
      "\n"
     ]
    }
   ],
   "source": [
    "print(contents)"
   ]
  },
  {
   "cell_type": "code",
   "execution_count": 48,
   "metadata": {},
   "outputs": [],
   "source": [
    "#This is to test to see if the methid works "
   ]
  },
  {
   "cell_type": "code",
   "execution_count": 49,
   "metadata": {},
   "outputs": [
    {
     "name": "stdout",
     "output_type": "stream",
     "text": [
      "Writing C:\\DevEx\\IdeaProjects\\Python.Udemy.Complete_Python_BootCamp\\Python_Objects_and_DataStructures_Basics\\second_file.txt\n"
     ]
    }
   ],
   "source": [
    "%%writefile C:\\DevEx\\IdeaProjects\\Python.Udemy.Complete_Python_BootCamp\\Python_Objects_and_DataStructures_Basics\\second_file.txt\n",
    "    This is a test line \n",
    "    This is also a test line\n",
    "    This is the final test line \n"
   ]
  },
  {
   "cell_type": "code",
   "execution_count": 51,
   "metadata": {},
   "outputs": [],
   "source": [
    "the_newfile =open('second_file.txt')"
   ]
  },
  {
   "cell_type": "code",
   "execution_count": 52,
   "metadata": {},
   "outputs": [
    {
     "data": {
      "text/plain": [
       "'    This is a test line \\n    This is also a test line\\n    This is the final test line \\n'"
      ]
     },
     "execution_count": 52,
     "metadata": {},
     "output_type": "execute_result"
    }
   ],
   "source": [
    "the_newfile.read()"
   ]
  },
  {
   "cell_type": "code",
   "execution_count": 53,
   "metadata": {},
   "outputs": [
    {
     "data": {
      "text/plain": [
       "0"
      ]
     },
     "execution_count": 53,
     "metadata": {},
     "output_type": "execute_result"
    }
   ],
   "source": [
    "the_newfile.seek(0)"
   ]
  },
  {
   "cell_type": "code",
   "execution_count": 54,
   "metadata": {},
   "outputs": [],
   "source": [
    "with open ('second_file.txt') as the_new_new_File:\n",
    "    contents2 = the_new_new_File.read()"
   ]
  },
  {
   "cell_type": "code",
   "execution_count": 55,
   "metadata": {},
   "outputs": [
    {
     "data": {
      "text/plain": [
       "'    This is a test line \\n    This is also a test line\\n    This is the final test line \\n'"
      ]
     },
     "execution_count": 55,
     "metadata": {},
     "output_type": "execute_result"
    }
   ],
   "source": [
    "contents2"
   ]
  },
  {
   "cell_type": "code",
   "execution_count": null,
   "metadata": {},
   "outputs": [],
   "source": []
  }
 ],
 "metadata": {
  "kernelspec": {
   "display_name": "Python 3",
   "language": "python",
   "name": "python3"
  }
 },
 "nbformat": 4,
 "nbformat_minor": 2
}
